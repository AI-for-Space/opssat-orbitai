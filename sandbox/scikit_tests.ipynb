{
 "cells": [
  {
   "cell_type": "markdown",
   "metadata": {},
   "source": [
    "# Imports"
   ]
  },
  {
   "cell_type": "code",
   "execution_count": 1,
   "metadata": {},
   "outputs": [],
   "source": [
    "import sklearn as sk\n",
    "import numpy as np\n",
    "import matplotlib.pyplot as plt\n",
    "import matplotlib.gridspec as gridspec\n",
    "import pandas as pd\n",
    "import seaborn as sns\n",
    "import scikitplot as skplt\n",
    "\n",
    "from matplotlib.colors import ListedColormap\n",
    "\n",
    "from mpl_toolkits import mplot3d \n",
    "from mpl_toolkits.mplot3d import Axes3D\n",
    "\n",
    "from sklearn import svm, datasets\n",
    "from sklearn.model_selection import train_test_split\n",
    "from sklearn.model_selection import cross_val_predict\n",
    "from sklearn.model_selection import cross_val_score\n",
    "from sklearn.preprocessing import StandardScaler\n",
    "from sklearn.neural_network import MLPClassifier\n",
    "from sklearn.neighbors import KNeighborsClassifier\n",
    "from sklearn.svm import SVC\n",
    "from sklearn.ensemble import RandomForestClassifier #more ensemble methods to be tested\n",
    "from sklearn.ensemble import BaggingClassifier\n",
    "from sklearn.ensemble import ExtraTreesClassifier\n",
    "from sklearn.ensemble import AdaBoostClassifier\n",
    "from sklearn.ensemble import GradientBoostingClassifier\n",
    "from sklearn.ensemble import GradientBoostingRegressor\n",
    "from sklearn.tree import DecisionTreeClassifier\n",
    "from sklearn.linear_model import LogisticRegression\n",
    "from sklearn.naive_bayes import GaussianNB\n",
    "from sklearn.discriminant_analysis import LinearDiscriminantAnalysis\n",
    "from sklearn.preprocessing import LabelEncoder, StandardScaler\n",
    "from sklearn.decomposition import PCA\n",
    "from sklearn.metrics import classification_report\n",
    "from sklearn.metrics import confusion_matrix\n",
    "from sklearn.metrics import accuracy_score\n",
    "\n",
    "from mlxtend.plotting import plot_decision_regions"
   ]
  },
  {
   "cell_type": "markdown",
   "metadata": {},
   "source": [
    "# Prepare data"
   ]
  },
  {
   "cell_type": "markdown",
   "metadata": {},
   "source": [
    "## Photodiodes (2D)"
   ]
  },
  {
   "cell_type": "code",
   "execution_count": 2,
   "metadata": {},
   "outputs": [
    {
     "name": "stdout",
     "output_type": "stream",
     "text": [
      "10106 samples labeled for OPTICAL_RX_STATE\n"
     ]
    }
   ],
   "source": [
    "df_2D = pd.read_csv(r'fdir-algorithm/data/webmust_labeled/labeled_I_PD_THETA.csv')\n",
    "#df_2D = pd.read_csv(r'fdir-algorithm/data/webmust_labeled/perfect_training_set.csv')\n",
    "\n",
    "df_2D = df_2D.dropna()\n",
    "df_2D = df_2D[(df_2D.PD3 > 0) & (df_2D.PD6 > 0)]\n",
    "\n",
    "tr_input_2D = np.array([df_2D.PD6,df_2D.PD3])\n",
    "tr_input_2D = np.transpose(tr_input_2D)\n",
    "\n",
    "label_2D = df_2D.OPTICAL_RX_STATE\n",
    "tr_output_2D = np.array(label_2D)\n",
    "\n",
    "print(\"{} samples labeled for {}\".format(tr_input_2D.shape[0], label_2D.name))"
   ]
  },
  {
   "cell_type": "markdown",
   "metadata": {},
   "source": [
    "## Euler angles (3D)"
   ]
  },
  {
   "cell_type": "code",
   "execution_count": 3,
   "metadata": {},
   "outputs": [
    {
     "name": "stdout",
     "output_type": "stream",
     "text": [
      "4776 samples labeled for OPTICAL_RX_STATE\n"
     ]
    }
   ],
   "source": [
    "df = pd.read_csv(r'fdir-algorithm/data/webmust_labeled/labeled_O_Q_FB_FI_EST.csv')\n",
    "\n",
    "tr_input_3D = np.array([df.x_euler, df.y_euler, df.z_euler])\n",
    "tr_input_3D = np.transpose(tr_input_3D)\n",
    "\n",
    "label_3D = df.OPTICAL_RX_STATE\n",
    "tr_output_3D = np.array(label_3D)\n",
    "\n",
    "print(\"{} samples labeled for {}\".format(tr_input_3D.shape[0], label_3D.name))"
   ]
  },
  {
   "cell_type": "markdown",
   "metadata": {},
   "source": [
    "## Quaternions (4D)"
   ]
  },
  {
   "cell_type": "code",
   "execution_count": 4,
   "metadata": {},
   "outputs": [
    {
     "name": "stdout",
     "output_type": "stream",
     "text": [
      "4776 samples labeled for OPTICAL_RX_STATE\n"
     ]
    }
   ],
   "source": [
    "tr_input_4D = np.array([df.w, df.x, df.y, df.z])\n",
    "tr_input_4D = np.transpose(tr_input_4D)\n",
    "\n",
    "\n",
    "label_4D = df.OPTICAL_RX_STATE\n",
    "tr_output_4D = np.array(label_4D)\n",
    "\n",
    "print(\"{} samples labeled for {}\".format(tr_input_4D.shape[0], label_4D.name))"
   ]
  },
  {
   "cell_type": "markdown",
   "metadata": {},
   "source": [
    "# Train models"
   ]
  },
  {
   "cell_type": "code",
   "execution_count": 5,
   "metadata": {
    "jupyter": {
     "source_hidden": true
    }
   },
   "outputs": [],
   "source": [
    "# Chosen models\n",
    "models_labels = ['KNN','Gaussian NB', 'Lin. Discr. Analysis', 'SVC','Logistic Regression', 'Random Forest Class.', 'MLP']\n",
    "\n",
    "# Split data\n",
    "X_2D = tr_input_2D\n",
    "Y_2D = tr_output_2D\n",
    "X_3D = tr_input_3D\n",
    "Y_3D = tr_output_3D\n",
    "X_4D = tr_input_4D\n",
    "Y_4D = tr_output_4D\n",
    "\n",
    "test_size=0.20\n",
    "shuffle_seed=42\n",
    "X_train_2D, X_test_2D, Y_train_2D, Y_test_2D = train_test_split(X_2D, Y_2D, test_size=test_size, random_state=shuffle_seed)\n",
    "X_train_3D, X_test_3D, Y_train_3D, Y_test_3D = train_test_split(X_3D, Y_3D, test_size=test_size, random_state=shuffle_seed)\n",
    "X_train_4D, X_test_4D, Y_train_4D, Y_test_4D = train_test_split(X_4D, Y_4D, test_size=test_size, random_state=shuffle_seed)"
   ]
  },
  {
   "cell_type": "markdown",
   "metadata": {},
   "source": [
    "## Photodiodes (2D)"
   ]
  },
  {
   "cell_type": "code",
   "execution_count": 6,
   "metadata": {},
   "outputs": [
    {
     "name": "stdout",
     "output_type": "stream",
     "text": [
      ".......\n",
      "2D models trained\n"
     ]
    }
   ],
   "source": [
    "# 2D models\n",
    "models = [KNeighborsClassifier(n_neighbors=10, weights='uniform', algorithm='auto', leaf_size=10, p=2),\n",
    "          GaussianNB(),\n",
    "          LinearDiscriminantAnalysis(solver='lsqr'), \n",
    "          svm.SVC(kernel='linear'), #for kernel = 'rbf', play with gamma and c\n",
    "          LogisticRegression(),\n",
    "          RandomForestClassifier(n_estimators=5, max_depth=8, random_state=1),\n",
    "          MLPClassifier(hidden_layer_sizes=120, activation='tanh', solver='adam', learning_rate='adaptive')]\n",
    "\n",
    "trained_models_2D = []\n",
    "for model in models:\n",
    "    print(\".\",end='')\n",
    "    trained_models_2D.append(model.fit(X_train_2D, Y_train_2D))\n",
    "    \n",
    "print(\"\\n2D models trained\")"
   ]
  },
  {
   "cell_type": "markdown",
   "metadata": {},
   "source": [
    "## Euler angles (3D)"
   ]
  },
  {
   "cell_type": "code",
   "execution_count": 7,
   "metadata": {},
   "outputs": [
    {
     "name": "stdout",
     "output_type": "stream",
     "text": [
      ".......\n",
      "3D models trained\n"
     ]
    },
    {
     "name": "stderr",
     "output_type": "stream",
     "text": [
      "/home/tanguy/.local/lib/python3.7/site-packages/sklearn/neural_network/_multilayer_perceptron.py:585: ConvergenceWarning: Stochastic Optimizer: Maximum iterations (200) reached and the optimization hasn't converged yet.\n",
      "  % self.max_iter, ConvergenceWarning)\n"
     ]
    }
   ],
   "source": [
    "# 3D models\n",
    "models = [KNeighborsClassifier(n_neighbors=10, weights='uniform', algorithm='auto', leaf_size=10, p=2),\n",
    "          GaussianNB(),\n",
    "          LinearDiscriminantAnalysis(solver='lsqr'), \n",
    "          svm.SVC(kernel='rbf', gamma=\"scale\"),\n",
    "          LogisticRegression(),\n",
    "          ExtraTreesClassifier(),#RandomForestClassifier(),\n",
    "          MLPClassifier(hidden_layer_sizes=120, activation='tanh', solver='adam', learning_rate='adaptive')]\n",
    "\n",
    "trained_models_3D = []\n",
    "for model in models:\n",
    "    print(\".\",end='')\n",
    "    trained_models_3D.append(model.fit(X_train_3D, Y_train_3D))\n",
    "    \n",
    "print(\"\\n3D models trained\")"
   ]
  },
  {
   "cell_type": "markdown",
   "metadata": {},
   "source": [
    "## Quaternions (4D)"
   ]
  },
  {
   "cell_type": "code",
   "execution_count": 8,
   "metadata": {},
   "outputs": [
    {
     "name": "stdout",
     "output_type": "stream",
     "text": [
      ".......\n",
      "4D models trained\n"
     ]
    },
    {
     "name": "stderr",
     "output_type": "stream",
     "text": [
      "/home/tanguy/.local/lib/python3.7/site-packages/sklearn/neural_network/_multilayer_perceptron.py:585: ConvergenceWarning: Stochastic Optimizer: Maximum iterations (200) reached and the optimization hasn't converged yet.\n",
      "  % self.max_iter, ConvergenceWarning)\n"
     ]
    }
   ],
   "source": [
    "# 4D models\n",
    "models = [KNeighborsClassifier(n_neighbors=10, weights='uniform', algorithm='auto', leaf_size=10, p=2),\n",
    "          GaussianNB(),\n",
    "          LinearDiscriminantAnalysis(solver='lsqr'), \n",
    "          svm.SVC(kernel='rbf'), #for kernel = 'rbf', play with gamma and c\n",
    "          LogisticRegression(),\n",
    "          RandomForestClassifier(max_depth=10),\n",
    "          MLPClassifier(hidden_layer_sizes=120, activation='tanh', solver='adam', learning_rate='adaptive')]\n",
    "\n",
    "trained_models_4D = []\n",
    "for model in models:\n",
    "    print(\".\",end='')\n",
    "    trained_models_4D.append(model.fit(X_train_4D, Y_train_4D))\n",
    "\n",
    "print(\"\\n4D models trained\")"
   ]
  },
  {
   "cell_type": "markdown",
   "metadata": {},
   "source": [
    "# Display stuff"
   ]
  },
  {
   "cell_type": "markdown",
   "metadata": {},
   "source": [
    "## Decisions regions (2D)"
   ]
  },
  {
   "cell_type": "code",
   "execution_count": null,
   "metadata": {},
   "outputs": [],
   "source": [
    "models_grid_pos = [(0,0), (0,1), (0,2), (1,0), (1,1), (1,2), (2,0)]\n",
    "gs = gridspec.GridSpec(3, 3)\n",
    "gs.update(wspace=0.25, hspace=0.3)\n",
    "\n",
    "fig = plt.figure(figsize=(15,12))\n",
    "fig.suptitle(label_2D.name)\n",
    "\n",
    "nb_samples = min(100, len(X_test_2D))\n",
    "\n",
    "for model, model_grid_pos, model_label in zip(trained_models_2D, models_grid_pos, models_labels):\n",
    "    ax = plt.subplot(gs[model_grid_pos[0], model_grid_pos[1]])\n",
    "    ax.set_xlabel(\"PD6\")\n",
    "    ax.set_ylabel(\"PD3\")\n",
    "    fig = plot_decision_regions(X=X_test_2D[:nb_samples], y=Y_test_2D[:nb_samples], clf=model, legend=2)\n",
    "    plt.title(model_label)\n",
    "\n",
    "plt.show()"
   ]
  },
  {
   "cell_type": "markdown",
   "metadata": {},
   "source": [
    "## Euler angles input (3D)"
   ]
  },
  {
   "cell_type": "code",
   "execution_count": null,
   "metadata": {},
   "outputs": [],
   "source": [
    "fig = plt.figure()\n",
    "ax = plt.axes(projection='3d')\n",
    "ax.set_xlabel(\"X\")\n",
    "ax.set_ylabel(\"Y\")\n",
    "ax.set_zlabel(\"Z\")\n",
    "nb_samples = min(800, len(Y_test_3D))\n",
    "ax.scatter3D(X_test_3D[:nb_samples,0], X_test_3D[:nb_samples,1], X_test_3D[:nb_samples,2], c=Y_test_3D[:nb_samples], cmap=\"Set1\")"
   ]
  },
  {
   "cell_type": "markdown",
   "metadata": {},
   "source": [
    "# Evaluate"
   ]
  },
  {
   "cell_type": "markdown",
   "metadata": {},
   "source": [
    "## Photodiodes (2D)"
   ]
  },
  {
   "cell_type": "code",
   "execution_count": null,
   "metadata": {},
   "outputs": [],
   "source": [
    "print(\"-- Accuracies (2D models) --\")\n",
    "for index, f in enumerate(trained_models_2D):\n",
    "    prediction = f.predict(X_test_2D)\n",
    "    print(\"{}:\\t{}\".format(models_labels[index], accuracy_score(prediction,Y_test_2D)).expandtabs(23))"
   ]
  },
  {
   "cell_type": "markdown",
   "metadata": {},
   "source": [
    "## Euler angles (3D)"
   ]
  },
  {
   "cell_type": "code",
   "execution_count": null,
   "metadata": {},
   "outputs": [],
   "source": [
    "print(\"-- Accuracies (3D models) --\")\n",
    "for index, f in enumerate(trained_models_3D):\n",
    "    prediction = f.predict(X_test_3D)\n",
    "    print(\"{}:\\t{}\".format(models_labels[index], accuracy_score(prediction,Y_test_3D)).expandtabs(23))"
   ]
  },
  {
   "cell_type": "markdown",
   "metadata": {},
   "source": [
    "## Quaternions (4D)"
   ]
  },
  {
   "cell_type": "code",
   "execution_count": null,
   "metadata": {},
   "outputs": [],
   "source": [
    "print(\"-- Accuracies (4D models) --\")\n",
    "for index, f in enumerate(trained_models_4D):\n",
    "    prediction = f.predict(X_test_4D)\n",
    "    print(\"{}:\\t{}\".format(models_labels[index], accuracy_score(prediction,Y_test_4D)).expandtabs(23))"
   ]
  }
 ],
 "metadata": {
  "kernelspec": {
   "display_name": "Python 3",
   "language": "python",
   "name": "python3"
  },
  "language_info": {
   "codemirror_mode": {
    "name": "ipython",
    "version": 3
   },
   "file_extension": ".py",
   "mimetype": "text/x-python",
   "name": "python",
   "nbconvert_exporter": "python",
   "pygments_lexer": "ipython3",
   "version": "3.7.3"
  },
  "toc-autonumbering": true,
  "toc-showcode": false,
  "toc-showmarkdowntxt": false
 },
 "nbformat": 4,
 "nbformat_minor": 4
}
